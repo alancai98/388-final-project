{
 "cells": [
  {
   "cell_type": "markdown",
   "metadata": {},
   "source": [
    "## Reddit Political Community Analyzer"
   ]
  },
  {
   "cell_type": "code",
   "execution_count": 1,
   "metadata": {},
   "outputs": [],
   "source": [
    "import praw\n",
    "from psaw import PushshiftAPI"
   ]
  },
  {
   "cell_type": "code",
   "execution_count": 2,
   "metadata": {},
   "outputs": [],
   "source": [
    "reddit = praw.Reddit(client_id='JgYmAnPps7utGg',\n",
    "                     client_secret='g2s1IJiQPnAXSfxua-MFxTSz1xs',\n",
    "                     user_agent='15388throwaway')\n",
    "api = PushshiftAPI(reddit)"
   ]
  },
  {
   "cell_type": "code",
   "execution_count": 3,
   "metadata": {},
   "outputs": [
    {
     "name": "stdout",
     "output_type": "stream",
     "text": [
      "http://www.deseretnews.com/article/865645896/Rep-Mia-Love-wants-to-limit-congressional-bills-to-one-subject-at-a-time.html\n",
      "http://www.nytimes.com/2016/01/20/us/president-obama-may-require-federal-contractors-to-list-campaign-gifts.html\n",
      "http://www.ibtimes.com/political-capital/hillary-clinton-gets-13-million-health-industry-now-says-single-payer-will-never\n",
      "http://thehill.com/blogs/ballot-box/other-races/265044-liberal-group-demands-dnc-chair-resign\n",
      "http://dailycaller.com/2016/01/26/no-reporters-allowed-at-hillarys-wall-street-speeches/\n",
      "https://www.reddit.com/r/politics/comments/406kp2/rep_debbie_wasserman_schultz_just_got_a_primary/\n",
      "https://www.washingtonpost.com/opinions/mr-cruzs-wall-street-hypocrisy/2016/01/14/e9fc5570-bafc-11e5-b682-4bb4dd403c7d_story.html\n",
      "http://marijuanapolitics.com/on-marijuana-hillary-clinton-sides-with-big-pharma-over-young-voters/\n",
      "https://represent.us/action/marijuana/\n",
      "http://thehill.com/homenews/administration/264953-white-house-teases-cruz-over-us-citizenship\n",
      "http://news.investors.com/ibd-editorials-polls/011116-789089-hillaryclinton-lead-nearly-vanishes-among-democrats.htm\n",
      "http://abcnews.go.com/Politics/bernie-sanders-opens-60-33-lead-hillary-clinton/story?id=36383793\n",
      "http://www.weeklystandard.com/axelrod-chelsea-clinton-attack-on-sanders-not-honest/article/2000545\n",
      "https://theintercept.com/2016/01/12/hillary-clinton-in-2008-since-when-do-other-democrats-attack-each-other-on-universal-healthcare/\n",
      "http://www.washingtontimes.com/news/2016/jan/31/democratic-national-committee-sanction-more-debate/\n",
      "https://theintercept.com/2016/01/23/clinton-goldman-sachs-laugh/\n",
      "http://reason.com/blog/2016/01/17/bernie-sanders-shootings-police\n",
      "http://hosted.ap.org/dynamic/stories/U/US_CLINTON_EMAILS?SITE=AP&SECTION=HOME&TEMPLATE=DEFAULT&CTIME=2016-01-29-14-48-31\n",
      "http://www.cbc.ca/news/world/hillary-clinton-lgbt-endorsement-1.3410991\n",
      "http://www.washingtonexaminer.com/sanders-releases-pic-of-clinton-praising-him-on-healthcare/article/2580374\n",
      "http://www.cbsnews.com/news/nh-poll-bernie-sanders-leads-every-major-voting-bloc/\n",
      "https://www.washingtonpost.com/opinions/planned-parenthood-has-been-absolved-the-gop-should-give-up-its-crusade/2016/01/26/49803df4-c462-11e5-a4aa-f25866ba0dc6_story.html\n",
      "http://abcnews.go.com/Politics/bernie-sanders-doubles-critique-hillary-clintons-speaking-fees/story?id=36364560\n",
      "http://thehill.com/blogs/ballot-box/dem-primaries/267286-sanders-calls-for-more-debates-on-his-own-terms\n",
      "https://www.washingtonpost.com/news/post-politics/wp/2016/01/04/in-wall-street-speech-sanders-will-pledge-to-break-up-big-banks-within-first-year-in-office/\n",
      "http://www.theguardian.com/us-news/2016/jan/22/hillary-clinton-angers-iowa-fans-who-waited-hours-for-five-minute-speech?CMP=share_btn_tw\n",
      "http://www.vox.com/2016/1/17/10784428/democratic-debate-sanders-heroin-painkillers\n",
      "http://www.metro.us/news/clinton-super-pac-offered-vermont-newspaper-off-the-record-anti-sanders-tips/zsJpav---ufir7dReqAEXE/\n",
      "http://abcnews.go.com/Politics/wireStory/sanders-campaign-endorsed-moveon-36233860\n",
      "https://www.washingtonpost.com/news/wonk/wp/2016/01/17/bernie-sanders-new-health-care-plan-is-his-biggest-attack-on-the-rich-so-far/\n",
      "http://thehill.com/blogs/ballot-box/gop-primaries/266809-trump-i-could-shoot-people-in-streets-and-not-lose-support\n",
      "http://www.salon.com/2016/01/04/all_they_want_to_do_is_screw_over_the_president_ryan_mcconnell_confirm_they_have_no_real_agenda_in_16_besides_blocking_obama/\n",
      "http://www.upi.com/Top_News/US/2016/01/11/Bernie-Sanders-No-one-asked-for-my-birth-certificate/5181452539964/\n",
      "https://theintercept.com/2016/01/08/hillary-clinton-earned-more-from-12-speeches-to-big-banks-than-most-americans-earn-in-their-lifetime/\n",
      "http://www.vox.com/2016/1/12/10758738/obama-state-of-the-union-2016-gerrymandering\n",
      "http://usuncut.com/politics/sanders-campaign-catches-fire-clinton-begins-feel-bern/\n",
      "https://www.reddit.com/r/politics/comments/42egnx/hillary_laughs_off_everything_she_doesnt_want_to/\n",
      "http://fivethirtyeight.com/features/the-armed-oregon-ranchers-who-want-free-land-are-already-getting-a-93-percent-discount/\n",
      "https://www.washingtonpost.com/news/fact-checker/wp/2016/01/25/ted-cruzs-claim-that-sexual-assaults-rate-went-up-significantly-after-australian-gun-control-laws/\n",
      "http://civicskunkworks.com/mitt-romney-republicans-are-nuts-not-to-raise-the-minimum-wage/\n",
      "https://theintercept.com/2016/01/22/bernie-sanders-gets-group-endorsements-when-members-decide-hillary-clinton-when-leaders-decide/\n",
      "http://www.reuters.com/article/us-vermont-marijuana-idUSKBN0UM02C20160108\n",
      "https://theintercept.com/2016/01/29/elizabeth-warren-challenges-clinton-sanders-to-prosecute-corporate-crime-better-than-obama/\n",
      "https://www.washingtonpost.com/news/monkey-cage/wp/2016/01/16/bill-oreilly-will-flee-to-ireland-if-sanders-is-elected-hes-in-for-a-shock/\n",
      "http://www.cnn.com/2016/01/11/politics/joe-biden-bernie-sanders-hillary-clinton-income-inequality/index.html\n",
      "http://www.breitbart.com/big-government/2016/01/20/goldman-sachs-is-a-top-donor-to-hillary-jeb-and-rubio/?utm_source=facebook&utm_medium=social\n",
      "http://www.theguardian.com/music/2016/jan/28/red-hot-chili-peppers-to-headline-bernie-sanders-fundraiser-in-la\n",
      "http://www.businessinsider.com/bernie-sanders-favorability-new-hampshire-poll-2016-1\n",
      "http://talkingpointsmemo.com/news/republican-senators-dislike-cruz\n",
      "http://nymag.com/daily/intelligencer/2016/01/obama-wants-companies-to-list-campaign-gifts.html\n"
     ]
    }
   ],
   "source": [
    "import datetime as dt\n",
    "\n",
    "def getTopMonthlyPosts(s_year, s_month, s_day, e_year, e_month, e_day):\n",
    "    start_epoch = int(dt.datetime(s_year, s_month, s_day).timestamp())\n",
    "    end_epoch = int(dt.datetime(e_year, e_month, e_day). timestamp())\n",
    "    gen = api.search_submissions(before=end_epoch, after=start_epoch,\n",
    "                                subreddit='politics', sort='desc',\n",
    "                                sort_type='score', limit=50)\n",
    "    for g in gen:\n",
    "        print(g.url)\n",
    "getTopMonthlyPosts(2016, 1, 1, 2016, 2, 1)"
   ]
  },
  {
   "cell_type": "code",
   "execution_count": null,
   "metadata": {},
   "outputs": [],
   "source": []
  }
 ],
 "metadata": {
  "kernelspec": {
   "display_name": "Python 3",
   "language": "python",
   "name": "python3"
  },
  "language_info": {
   "codemirror_mode": {
    "name": "ipython",
    "version": 3
   },
   "file_extension": ".py",
   "mimetype": "text/x-python",
   "name": "python",
   "nbconvert_exporter": "python",
   "pygments_lexer": "ipython3",
   "version": "3.7.0"
  }
 },
 "nbformat": 4,
 "nbformat_minor": 2
}
